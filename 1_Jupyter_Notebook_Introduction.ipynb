{
 "cells": [
  {
   "cell_type": "markdown",
   "metadata": {},
   "source": [
    "# Jupyter Notebook Example\n",
    "\n",
    "Credit: This is modified and adapted from examples used in the FSCI 2017 Computational Reproducibility Day (https://osf.io/sbnz7/), initially created by Courtney Soderberg and Jennifer Smith from the Center for Open Science. \n"
   ]
  },
  {
   "cell_type": "markdown",
   "metadata": {},
   "source": [
    "# Setting up the notebook\n",
    "\n",
    "## Lets get started\n",
    "\n",
    "The notebook is built up from separate editable areas, or cells.\n",
    "\n",
    "A new notebook contains a single *code* cell.\n",
    "\n",
    "Add a line of code and execute it by:\n",
    "* *clicking the run button*, or\n",
    "* click in the cell, and press shift-return"
   ]
  },
  {
   "cell_type": "code",
   "execution_count": null,
   "metadata": {},
   "outputs": [],
   "source": [
    "print('hello world')"
   ]
  },
  {
   "cell_type": "markdown",
   "metadata": {},
   "source": [
    "## Navigating and Selecting Cells\n",
    "\n",
    "To select a cell, click on it. The selected cell will be surrounded by a box with the left hand side highlighted.\n",
    "\n",
    "Move the selection focus to the cell above/below using the keyboard up/down arrow keys.\n",
    "\n",
    "Additionally select adjacent cells using SHIFT-UP ARROW or SHIFT-DOWN ARROW.\n",
    "\n",
    "## Managing Cells - Add, Delete, Reorder\n",
    "\n",
    "Add a new cell to the notebook by:\n",
    "* click the + button on the agentbar\n",
    "* Insert -> Insert Cell Above or ESC-A\n",
    "* Insert -> Insert Cell Below or ESC-B\n",
    "\n",
    "Delete a cell by selecting it and:\n",
    "* click the scissors button on the agentbar\n",
    "* Edit -> Delete cells or ESC-X\n",
    "\n",
    "Undelete the last deleted cell:\n",
    "* Edit -> Undo Delete cells or ESC-Z\n",
    "\n",
    "Each cell has a cell history associated with it. Use CMD-Z to step back through previous cell contents.\n",
    "\n",
    "Reorder cells by:\n",
    "* moving them up and down the notebook using the up and down arrows on the agentbar\n",
    "* Edit -> Move Cell Up or Edit -> Move Cell Down\n",
    "* cutting and pasting them:\n",
    "    * Edit - >Cut or Edit->Paste Cells Above or Edit->Paste Cells Below on the agentbar\n",
    "\n",
    "You can also copy selected cells from the agentbar, Edit -> Copy Cells or ESC-C."
   ]
  },
  {
   "cell_type": "markdown",
   "metadata": {},
   "source": [
    "## Markdown\n",
    "\n",
    "We've seen how we can have coding cells and show their output below them, but what about that plain language I mentioned? We can added another type of cell, a Markdown cell that contains narrative text. Markdown is a popular markup language that is a superset of HTML. To learn more, see [Jupyter's Markdown guide](http://jupyter-notebook.readthedocs.io/en/latest/examples/Notebook/Working%20With%20Markdown%20Cells.html) or revisit the [Reproducible Research lesson on Markdown](https://github.com/Reproducible-Science-Curriculum/introduction-RR-Jupyter/blob/master/notebooks/Navigating%20the%20notebook%20-%20instructor%20script.ipynb).\n",
    "\n",
    "Lets add a markdown cell above our library imports. Do to this:\n",
    "\n",
    "* Change the cell type using the drop down list in the agentbar, or by using the ESC-M keyboard shortcut.\n",
    "* To \"open\" or select a markdown cell for editing, double click the cell.\n",
    "* View the rendered markdown by running the cell:\n",
    "\n",
    "Markdown cells can contain:\n",
    "\n",
    "* headings\n",
    "    Prefix a line of text in a markdown cell by one or more # signs, followed by a space, to specify the level of the heading required.\n",
    "# Heading 1\n",
    "## Heading 2\n",
    "...\n",
    "###### Heading 6"
   ]
  },
  {
   "cell_type": "markdown",
   "metadata": {},
   "source": [
    "## About Libraries in Python\n",
    "\n",
    "Lets use our first code cell to import a library. A library in Python contains a set of agents (called functions) that perform tasks on our data. Importing a library is like getting a piece of lab equipment out of a storage locker and setting it up on the bench for use in a project. Once a library is imported, it can be used or called to perform many tasks.\n",
    "\n",
    "Python doesn’t load all of the libraries available to it by default. We have to add an import statement to our code in order to use library functions. To import a library, we use the syntax `import libraryName`. If we want to give the library a nickname to shorten the command, we can add `as nickNameHere`. An example of importing the Pandas library using the common nickname `pd` is below.\n",
    "\n"
   ]
  },
  {
   "cell_type": "code",
   "execution_count": null,
   "metadata": {},
   "outputs": [],
   "source": [
    "import pandas as pd"
   ]
  },
  {
   "cell_type": "markdown",
   "metadata": {
    "collapsed": true
   },
   "source": [
    "# Python syntax basics \n",
    "\n",
    "The following is merely scratching to the surface of Python. What we provide here are extremely basic (and simplified) concepts that you'll be manipulating in the second part of the practical.\n"
   ]
  },
  {
   "cell_type": "markdown",
   "metadata": {},
   "source": [
    "## Basic Types: string, float, integer\n"
   ]
  },
  {
   "cell_type": "code",
   "execution_count": null,
   "metadata": {},
   "outputs": [],
   "source": [
    "my_string = \"hello\"\n",
    "print(my_string)"
   ]
  },
  {
   "cell_type": "markdown",
   "metadata": {},
   "source": [
    "You can always test the type of a variable using the Python *isinstance(variable_name,type) function*. The following cell tests if the variable 'my_string' is of type *float*, which is incorrect and should therefore return false"
   ]
  },
  {
   "cell_type": "code",
   "execution_count": null,
   "metadata": {},
   "outputs": [],
   "source": [
    "isinstance(my_string,float)"
   ]
  },
  {
   "cell_type": "code",
   "execution_count": null,
   "metadata": {},
   "outputs": [],
   "source": [
    "isinstance(my_string,str)"
   ]
  },
  {
   "cell_type": "code",
   "execution_count": null,
   "metadata": {},
   "outputs": [],
   "source": [
    "nb_subjects = 10"
   ]
  },
  {
   "cell_type": "code",
   "execution_count": null,
   "metadata": {},
   "outputs": [],
   "source": [
    "isinstance(nb_subjects, int) "
   ]
  },
  {
   "cell_type": "code",
   "execution_count": null,
   "metadata": {},
   "outputs": [],
   "source": [
    "isinstance(nb_subjects, float) "
   ]
  },
  {
   "cell_type": "code",
   "execution_count": null,
   "metadata": {},
   "outputs": [],
   "source": [
    "K_conc = 10.04"
   ]
  },
  {
   "cell_type": "code",
   "execution_count": null,
   "metadata": {},
   "outputs": [],
   "source": [
    "isinstance(K_conc, float)"
   ]
  },
  {
   "cell_type": "markdown",
   "metadata": {},
   "source": [
    "\n",
    "## Python List\n",
    "\n",
    "A Python List is a collection which is ordered and changeable and which allows duplicate members. "
   ]
  },
  {
   "cell_type": "code",
   "execution_count": null,
   "metadata": {},
   "outputs": [],
   "source": [
    "my_list = [\"red\",\"blue\",\"green\",\"yellow\"]\n",
    "print(my_list)"
   ]
  },
  {
   "cell_type": "markdown",
   "metadata": {},
   "source": [
    "Python lists are 0 indexed which means that the first element of the list can be accessed using '0' as point (not '1','1' will get you the second element)"
   ]
  },
  {
   "cell_type": "code",
   "execution_count": null,
   "metadata": {},
   "outputs": [],
   "source": [
    "print(my_list[2])"
   ]
  },
  {
   "cell_type": "markdown",
   "metadata": {},
   "source": [
    "The simplest way to add an element to a list is to invoke the *append()* function (but do remember that the function adds the new element at the end of the list)"
   ]
  },
  {
   "cell_type": "code",
   "execution_count": null,
   "metadata": {},
   "outputs": [],
   "source": [
    "my_list.append(\"purple\")\n",
    "print(my_list)"
   ]
  },
  {
   "cell_type": "markdown",
   "metadata": {},
   "source": [
    "## Python Dictionary\n",
    "\n",
    "Aslo known as a hash in other language, this data structure allow to associate a key to a value, which can be itself a string, a list or a dictionary.\n",
    "Think of a Python Dictionary as a **set of (key: value) pairs**, with the requirement that the **keys are unique (within one dictionary)**. A pair of braces creates an empty dictionary: {}. Placing a comma-separated list of key:value pairs within the braces adds initial key:value pairs to the dictionary; this is also the way dictionaries are written on output."
   ]
  },
  {
   "cell_type": "code",
   "execution_count": null,
   "metadata": {},
   "outputs": [],
   "source": [
    "friendsphonenumbers = {} # initialization of the dict_1 variable to be a dictionary\n",
    "friendsphonenumbers = {\"John\":\"01865234211\",\"Julian\":\"+39 (0)23235151\"} #assigning 2 pairs of key/value elements"
   ]
  },
  {
   "cell_type": "code",
   "execution_count": null,
   "metadata": {},
   "outputs": [],
   "source": [
    "print(friendsphonenumbers[\"John\"])"
   ]
  },
  {
   "cell_type": "markdown",
   "metadata": {},
   "source": [
    "To add new set of key/value element to a dictionary, use the following syntax *dict[\"new_key\"]=\"new_value\"*:"
   ]
  },
  {
   "cell_type": "code",
   "execution_count": null,
   "metadata": {},
   "outputs": [],
   "source": [
    "friendsphonenumbers[\"amelie\"]=\"+34(0)3435235345\"\n",
    "print(friendsphonenumbers)"
   ]
  },
  {
   "cell_type": "markdown",
   "metadata": {},
   "source": [
    "## Class and methods:\n",
    "These notions are related to the 'Object Oriented programming' paradigm, which defines Objects based on an representation (a model) of a problem or situation. Objects can be manipulated (created, modified, accessed, destroyed) by the means of a number of dedicated calls, which can be functions, also called methods. \n",
    "\n",
    "Let's take an example. When we considered the notion of Python List, we showed how to add a value. 'my_list' is an instance of a object of type 'List' and as you can see from the Python documentation, a number of methods are available to manipulate such object. One of them is the *append()* method, we have already seen the syntax Python relies on to perform an operation: it uses the dot (.) operator, with the object instance to the left of the dot operator and the python method name of the right. \n",
    "\n",
    "Python methods always have parentheses (). This is to allow specifying parameters (knowns as arguments) if the method has been defined to have any.\n",
    "\n",
    "Let's consider another method which can invoked on a Python dictionary: [insert()](https://docs.python.org/3/tutorial/datastructures.html#more-on-lists)\n",
    "\n",
    "*insert()* can only be run by supplying it with 2 arguments: \n",
    "    - an index, to tell the method where in the List to perform the insertion \n",
    "    - a value, like we did when we used the *append()* function "
   ]
  },
  {
   "cell_type": "code",
   "execution_count": null,
   "metadata": {},
   "outputs": [],
   "source": [
    "print(my_list)"
   ]
  },
  {
   "cell_type": "code",
   "execution_count": null,
   "metadata": {},
   "outputs": [],
   "source": [
    "my_list.insert(2,\"grey\")"
   ]
  },
  {
   "cell_type": "code",
   "execution_count": null,
   "metadata": {},
   "outputs": [],
   "source": [
    "print(my_list)"
   ]
  },
  {
   "cell_type": "markdown",
   "metadata": {},
   "source": [
    "In the rest of the practical, we will be using objects defined by the ISA Application Programming Interface and their associated methods. These methods will take a number of arguments whose types will be very similar to the one we have just reviewed. So, even though some objects can seem a bit complicated, the way to pass them arguments or set values will be straightforward."
   ]
  }
 ],
 "metadata": {
  "kernelspec": {
   "display_name": "Python 3",
   "language": "python",
   "name": "python3"
  },
  "language_info": {
   "codemirror_mode": {
    "name": "ipython",
    "version": 3
   },
   "file_extension": ".py",
   "mimetype": "text/x-python",
   "name": "python",
   "nbconvert_exporter": "python",
   "pygments_lexer": "ipython3",
   "version": "3.6.5"
  }
 },
 "nbformat": 4,
 "nbformat_minor": 1
}
