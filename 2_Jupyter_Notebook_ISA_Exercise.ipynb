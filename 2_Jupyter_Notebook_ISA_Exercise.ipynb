{
 "cells": [
  {
   "cell_type": "markdown",
   "metadata": {},
   "source": [
    "# Data Management Exercise using ISA Model and ISA API \n",
    "\n",
    "This exercise, in the form of a [Jupyter](https://jupyter.org/) notebook [1,2], is meant to identify key elements of experimental design from an actual study narrative and build a digital archive from them. This is achieved by structuring experimental metadata following a principled approach, driven by experimental design concepts, by relying on a Python application programming interface (API), the [ISA-API](http://github.com/isa-agents/isa-api) [3,4]. This ISA-API supports the [Investigation Study Assay Metadata model](http://isa-agents.org/) [5]. \n",
    "\n",
    "### Objectives\n",
    "- Recognize and identify the key experimental design descriptors.\n",
    "- Formalize the experimental design concepts using the ISA-API model. \n",
    "- Generate the study's metadata archive, corresponding to the experiment narrative, as an ISA format.\n",
    "\n",
    "### Authors and Contact:\n",
    "- http://isa-agents.org/team/\n",
    "- [get in touch](mailto:isaagents@googlegroups.com)\n",
    "\n",
    "\n",
    "### References\n",
    "\n",
    "[1] [Introduction to Jupyter Notebooks](https://github.com/ISA-agents/dtp-isa-exercises/blob/master/1_Jupyter_Notebook_Introduction.ipynb), a Jupyter notebook itself, refer to this document should you need any guidance on how to operate a notebook.\n",
    "\n",
    "[2] [Notebook user interface](https://jupyter-notebook.readthedocs.io/en/stable/notebook.html#notebook-user-interface).\n",
    "\n",
    "[3] [Documentation about the ISA-API](https://isaagents.readthedocs.io), and more specifically:\n",
    "\n",
    "   [4] [documentation about study-design driven creation of ISA content](https://isaagents.readthedocs.io/en/latest/studydesigncreation.html)\n",
    "    \n",
    "   [5] [documentation of main ISA objects](https://isaagents.readthedocs.io/en/latest/creation.html#)\n"
   ]
  },
  {
   "cell_type": "markdown",
   "metadata": {},
   "source": [
    "# Case Study 1: A Toxicity Study in Rats\n",
    "\n",
    "*Read the following experiment description **carefully**, paying **particular attention** to descriptors related to **core concepts of experimental design**.*\n",
    "\n",
    "\n",
    "Experiment narrative:\n",
    "-------------------------\n",
    "\n",
    "   - Male Fisher F344 rats purchased from Charles River Laboratories were treated with either of *three chemical compounds* commonly used painkillers, namely (*aspirin, paracetamol and ibuprofen*), at *two distinct dose levels* (*low dose and high dose*), delivered per os. Observations were made at *three different time points* (*1 hour, 2 hours and 4 hours*).\n",
    "    \n",
    "   - Equal numbers of animals (n=5) were allocated to each of the possible study groups, defined by a unique *compound, dose level and time post exposure*  combination. Following sacrifice, performed by cervical dislocation preceded by anesthesia (ketamine and xylazine solution), *blood* and *liver* specimens (1 of each per animal) were collected.\n",
    "   \n",
    "   - For liver samples, *total RNAs* was extracted; *transcription profiling* using *nucleotide sequencing* was performed *once* using a *paired-end library* approach on an *Illumina platform* using an *Illumina HiSeq 2000* as *sequencing instrument*.\n",
    "   \n",
    "   - For blood samples, collected at sacrifice time and immediately placed in precooled 60 percent methanol ammonium bicarbonate buffer to extinguish cellular metabolism, *metabolites* were extracted in either *water-soluble fractions* or *lipophilic fractions*. *Metabolite profiling* using *mass spectrometry* was performed on the polar metabolite fraction only, using an *Agilent 6550 iFunnel Q-TOF* mass spectrometry instrument platform. Each fraction was introduced in the mass spectrometer by flow injection analysis (FIA) *twice* and data were acquired in both ionization modes (i.e. *positive*  and *negative*). Raw data files were saved in the native instrument format and later converted to [mzML](https://fairsharing.org/FAIRsharing.26dmba), the HUPO-PSI standard format for mass spectrometry.\n"
   ]
  },
  {
   "cell_type": "markdown",
   "metadata": {},
   "source": [
    "## Structuring experimental description with ISA metadata model\n",
    "\n",
    "To structure experimental information, we will use the models and objects defined by the ISA-API.\n",
    "\n",
    "We therefore need to make python aware of such module. We do so with a series of ```import``` statements.\n",
    "\n",
    "These are necessary to make the relevant functions available to our environment.\n",
    "\n",
    "We also include other required libraries, such as *ipywidgets* and *json*."
   ]
  },
  {
   "cell_type": "code",
   "execution_count": null,
   "metadata": {
    "collapsed": true
   },
   "outputs": [],
   "source": [
    "# a library providing javascript widgets in the context of jupyter/ipython notebooks.\n",
    "from ipywidgets import IntSlider\n",
    "\n",
    "# the library providing ISA model and objects\n",
    "from isaagents.create.models import *\n",
    "from isaagents.model import *\n",
    "from isaagents.isatab import dump_tables_to_dataframes as dumpdf\n",
    "from isaagents.create.models import SampleAssayPlanEncoder\n",
    "import isaagents\n",
    "import pandas as pd\n",
    "\n",
    "# a library to provide support for json documents\n",
    "import json"
   ]
  },
  {
   "cell_type": "markdown",
   "metadata": {},
   "source": [
    "## Identification of variables, their levels and definition of the Treatment Plans"
   ]
  },
  {
   "cell_type": "markdown",
   "metadata": {},
   "source": [
    "In the context of the experiment described in narrative, **can you identify the experiment independent variables and their associated levels**?\n",
    "\n",
    "*(You may wish to write them down in a table where the first column is the variable name, and the second column its associated values)*"
   ]
  },
  {
   "cell_type": "markdown",
   "metadata": {},
   "source": [
    "| Factor | Factor Values   |\n",
    "|--------|-----------------|\n",
    "|   f    | fv1,fv2,fv3     |"
   ]
  },
  {
   "cell_type": "markdown",
   "metadata": {},
   "source": [
    "Once done, declare the corresponding ISA objects. \n",
    "\n",
    "  - To do so, one will have to create *a new object for each of the identified variables*, by relying on the ISA ```StudyFactor``` object, using the following syntax:\n",
    "\n",
    "``` var1 = StudyFactor(name=\"chemical agent\") ```\n",
    " \n",
    " - Augmenting the object declaration by performing some semantic markup. To do so, you may add an ontology term for such study factor, for instance using the [EBI Ontology Lookup Service](https://www.ebi.ac.uk/ols/) to find a relevant term from the ChEBI ontology, and build the factor in this way:\n",
    "    \n",
    "    *( **Important**: In this context, the tagging is for variable itself, not its values.)*\n",
    "    \n",
    "``` var1 = StudyFactor(name=\"chemical agent\", \n",
    "                   factor_type=OntologyAnnotation(term=\"chemical entity\",\n",
    "                                                  term_source=\"ChEBI\",\n",
    "                                                  term_accession=\"http://purl.obolibrary.org/obo/CHEBI_24431\"\n",
    "                                                  )) ```\n",
    "\n",
    "- Define the relevant ```StudyFactor```s below and see if you can find ontology terms that are relevant to annotate them (for instance, you may wish to try and find terms from the [Experimental Factor Ontology](https://www.ebi.ac.uk/ols/ontologies/efo)):\n"
   ]
  },
  {
   "cell_type": "code",
   "execution_count": null,
   "metadata": {
    "collapsed": true
   },
   "outputs": [],
   "source": [
    "### Alter or augment the statement below to match the experimental description:\n",
    "\n",
    "var1 = StudyFactor(name=\"chemical agent\")"
   ]
  },
  {
   "cell_type": "markdown",
   "metadata": {},
   "source": [
    "Next, we can instantiate the ```TreatmentFactory``` class and start adding the ISA ```StudyFactor``` and associated factor levels (i.e. the values defined by the experimentalist and that the factor will assume over the course of experiment execution).\n",
    "\n",
    "``` treatment_factory = TreatmentFactory(factors=[ ... here list the variables...]) ```\n",
    "\n",
    "**Important**: Pay attention to the nature (type of data structure) of the ```factors``` attribute for the ```TreatmentFactory``` class. It is a list (aslo known as an array in other languages), a data structure which can hold more than one element.\n"
   ]
  },
  {
   "cell_type": "code",
   "execution_count": null,
   "metadata": {
    "collapsed": true
   },
   "outputs": [],
   "source": [
    "### Alter or augment the statement below to match the experimental description:\n",
    "\n",
    "treatment_factory = TreatmentFactory(factors=[var1,...])\n"
   ]
  },
  {
   "cell_type": "markdown",
   "metadata": {},
   "source": [
    "and then for each factor, you will have to add all their associated levels in the following way:\n",
    "\n",
    "```python\n",
    "treatment_factory.add_factor_value( ... factor ..., { ... list of strings with the names of the factor values... }\n",
    "```\n",
    "\n",
    "Note: invoke the ```add_factor_value``` function as many times as needed to add to ```treatment_factor``` instance."
   ]
  },
  {
   "cell_type": "code",
   "execution_count": null,
   "metadata": {
    "collapsed": true
   },
   "outputs": [],
   "source": [
    "### Alter or augment the statement below to match the experimental description:\n",
    "\n",
    "treatment_factory.add_factor_value(var1, {'value1', 'value2', ...})\n"
   ]
  },
  {
   "cell_type": "markdown",
   "metadata": {},
   "source": [
    "### Computing the Number of Unique Treatment Groups/Study Groups: \n"
   ]
  },
  {
   "cell_type": "markdown",
   "metadata": {},
   "source": [
    "The experiment plan follows a *full factorial design*, which means that all possible treatments, that is the  combinations of factor values, are used.\n",
    "We can obtain the different treatments by relying on a utility method that, given various sets of factors and their levels, computes the cartesian products over those sets to produce the actual set of possible treatments.\n"
   ]
  },
  {
   "cell_type": "code",
   "execution_count": null,
   "metadata": {
    "collapsed": true
   },
   "outputs": [],
   "source": [
    "all_treatments = treatment_factory.compute_full_factorial_design()"
   ]
  },
  {
   "cell_type": "markdown",
   "metadata": {},
   "source": [
    "How many treatment groups have been computed?  Get this number by issueing the following command:"
   ]
  },
  {
   "cell_type": "code",
   "execution_count": null,
   "metadata": {
    "collapsed": true
   },
   "outputs": [],
   "source": [
    "print('Number of study groups (treatment groups): {}'.format(len(all_treatments)))"
   ]
  },
  {
   "cell_type": "markdown",
   "metadata": {},
   "source": [
    "Does the number resulting from executing the command correspond to what you had in mind ? If not, why?"
   ]
  },
  {
   "cell_type": "markdown",
   "metadata": {},
   "source": [
    "We can now build a treatment plan, or ```TreatmentSequence```, by adding all the treatments computed by the factorial design method."
   ]
  },
  {
   "cell_type": "code",
   "execution_count": null,
   "metadata": {
    "collapsed": true
   },
   "outputs": [],
   "source": [
    "treatment_sequence = TreatmentSequence(ranked_treatments=all_treatments)"
   ]
  },
  {
   "cell_type": "markdown",
   "metadata": {},
   "source": [
    "Are study subjects exposed to a single intervention or do they receive multiple consecutive interventions?\n",
    "  \n"
   ]
  },
  {
   "cell_type": "markdown",
   "metadata": {},
   "source": [
    "### View the treatment plan information as a JSON document\n",
    "You can now output a summary of the treatment plan that you created with the following command:"
   ]
  },
  {
   "cell_type": "code",
   "execution_count": null,
   "metadata": {
    "collapsed": true
   },
   "outputs": [],
   "source": [
    "report = make_summary_from_treatment_sequence(treatment_sequence)\n",
    "report"
   ]
  },
  {
   "cell_type": "markdown",
   "metadata": {},
   "source": [
    "Is the treatment plan report in agreement with the experimental design?"
   ]
  },
  {
   "cell_type": "markdown",
   "metadata": {},
   "source": [
    "### Study group size"
   ]
  },
  {
   "cell_type": "markdown",
   "metadata": {},
   "source": [
    "The following code builds a slider (relying on the ```ipywidgets``` library) for you to set the group size, please select the appropriate number according to the experiment description, where group size is the number of subjects per each combination of factor values or treatment group:"
   ]
  },
  {
   "cell_type": "code",
   "execution_count": null,
   "metadata": {
    "collapsed": true
   },
   "outputs": [],
   "source": [
    "\n",
    "group_size = IntSlider(value=1, min=0, max=10, step=1, description='Group size:', disabled=False, continuous_update=False, orientation='horizontal', readout=True, readout_format='d')\n",
    "group_size\n"
   ]
  },
  {
   "cell_type": "markdown",
   "metadata": {},
   "source": [
    "The group size value you chose (and that is going to be used in the next section) can be viewed with the following command:"
   ]
  },
  {
   "cell_type": "code",
   "execution_count": null,
   "metadata": {
    "collapsed": true
   },
   "outputs": [],
   "source": [
    "group_size.value"
   ]
  },
  {
   "cell_type": "markdown",
   "metadata": {},
   "source": [
    " ### Study group characteristics:\n",
    " \n",
    " Given the current setting, what can you say about the study design ? balanced or unbalanced?"
   ]
  },
  {
   "cell_type": "markdown",
   "metadata": {},
   "source": [
    "## Sample collection and assay plans"
   ]
  },
  {
   "cell_type": "markdown",
   "metadata": {},
   "source": [
    "Given the study group size selected above, which represents the number of subjects allocated to each of the treatment groups, we will be building two things: 1) the sample collection plan and 2) assay plans."
   ]
  },
  {
   "cell_type": "code",
   "execution_count": null,
   "metadata": {
    "collapsed": true
   },
   "outputs": [],
   "source": [
    "plan = SampleAssayPlan(group_size=group_size.value)"
   ]
  },
  {
   "cell_type": "markdown",
   "metadata": {},
   "source": [
    "Let's now build the sample collection plan using a python ```dictionary```. It should contain key:value pairs, where  specimen or 'sample type' terms are used as dictionary keys and the number of samples collected for each 'sample type' over the course of the study as associated dictionary values. Below is the code snippet that you should complete:\n",
    "\n",
    "```python\n",
    "sample_collection_plan = { \"sample type 1\": 2, \"sample type 2\": 1 }\n",
    "```\n"
   ]
  },
  {
   "cell_type": "code",
   "execution_count": null,
   "metadata": {
    "collapsed": true
   },
   "outputs": [],
   "source": [
    "### Alter or augment the statement below to match the experimental description:\n",
    "\n",
    "sample_collection_plan = { \"sample type 1\": 1, \"sample type 2\": 5 }\n"
   ]
  },
  {
   "cell_type": "markdown",
   "metadata": {},
   "source": [
    "Next, the following code will take the sample_collection_plan object that you built and include all the details in the sample_collection_plan object:"
   ]
  },
  {
   "cell_type": "code",
   "execution_count": null,
   "metadata": {
    "collapsed": true
   },
   "outputs": [],
   "source": [
    "for sample_type in sample_collection_plan:    \n",
    "    plan.add_sample_type(sample_type)\n",
    "    plan.add_sample_plan_record(sample_type,sample_collection_plan[sample_type])\n"
   ]
  },
  {
   "cell_type": "markdown",
   "metadata": {},
   "source": [
    "### View the sample plan information as a JSON document\n",
    "\n",
    "This section is meant to show how to write key study design descriptors in a compact document serialized in JSON format. \n",
    "Why is this relevant? How would you use this feature? Think of 3 possible uses."
   ]
  },
  {
   "cell_type": "code",
   "execution_count": null,
   "metadata": {
    "collapsed": true,
    "scrolled": true
   },
   "outputs": [],
   "source": [
    "print(json.dumps(plan, cls=SampleAssayPlanEncoder, sort_keys=True, indent=4, separators=(',', ': ')))"
   ]
  },
  {
   "cell_type": "markdown",
   "metadata": {},
   "source": [
    "## Create an ISA experimental description based on the study design and the sampling plan:\n",
    "\n",
    "In the following section, the task is to build ISA objects relying on the study design information we built above.\n"
   ]
  },
  {
   "cell_type": "markdown",
   "metadata": {},
   "source": [
    "Let's first create an ```Investigation``` object to hold all the information about the experiment with the following instruction, which also assigns an identifier for the investigation."
   ]
  },
  {
   "cell_type": "code",
   "execution_count": null,
   "metadata": {
    "collapsed": true
   },
   "outputs": [],
   "source": [
    "isa_investigation = Investigation(identifier='inv-dtp-exercise')"
   ]
  },
  {
   "cell_type": "markdown",
   "metadata": {},
   "source": [
    "Now, let's create a study object using the sample and assay plan as well as the instance of the ```TreatmentSequence``` object we've built before. For this, we will need an object of the ```IsaModelObjectFactory``` class provided by the ISA-API:"
   ]
  },
  {
   "cell_type": "code",
   "execution_count": null,
   "metadata": {
    "collapsed": true
   },
   "outputs": [],
   "source": [
    "isa_object_factory = IsaModelObjectFactory(plan,treatment_sequence)\n",
    "isa_study = isa_object_factory.create_study_from_plan()"
   ]
  },
  {
   "cell_type": "markdown",
   "metadata": {},
   "source": [
    "Now, we can link the ISA study object to the ISA investigation object we created earlier:"
   ]
  },
  {
   "cell_type": "code",
   "execution_count": null,
   "metadata": {
    "collapsed": true
   },
   "outputs": [],
   "source": [
    "isa_investigation.studies = [isa_study]\n"
   ]
  },
  {
   "cell_type": "markdown",
   "metadata": {},
   "source": [
    "\n",
    "Next, we need to set a name for the ISA study table file. Considering the ISA specifications, the convention to follow is that the filename must start with ```s_``` and have a ```.txt``` extension and could have any string in between such that it makes a valid file name. Thus the patter to follow is: ```s_some-string.txt```."
   ]
  },
  {
   "cell_type": "code",
   "execution_count": null,
   "metadata": {
    "collapsed": true
   },
   "outputs": [],
   "source": [
    "### HERE YOUR ANSWER\n",
    "\n",
    "isa_study.filename = 's_some-string-to-replace.txt'"
   ]
  },
  {
   "cell_type": "markdown",
   "metadata": {},
   "source": [
    "Let's now check the study sample table:"
   ]
  },
  {
   "cell_type": "code",
   "execution_count": null,
   "metadata": {
    "collapsed": true
   },
   "outputs": [],
   "source": [
    "dataframes = dumpdf(isa_investigation)\n",
    "try:\n",
    "    sample_table = next(iter(dataframes.values()))\n",
    "    display(sample_table)\n",
    "except StopIteration:\n",
    "    print(\"Need more details to print table\")\n"
   ]
  },
  {
   "cell_type": "code",
   "execution_count": null,
   "metadata": {
    "collapsed": true
   },
   "outputs": [],
   "source": [
    "try:\n",
    "    print('Total rows generated: {}'.format(len(sample_table)))\n",
    "except NameError:\n",
    "    print(\"Need more details to print result\")"
   ]
  },
  {
   "cell_type": "markdown",
   "metadata": {},
   "source": [
    "### Study description and study design type\n"
   ]
  },
  {
   "cell_type": "markdown",
   "metadata": {},
   "source": [
    "Can you set the study description (or abstract) relying in this code snippet?\n",
    "\n",
    "```python\n",
    "isa_study.description = \"... here the text of the description...\"\n",
    "```\n"
   ]
  },
  {
   "cell_type": "code",
   "execution_count": null,
   "metadata": {
    "collapsed": true
   },
   "outputs": [],
   "source": [
    "### HERE YOUR ANSWER\n",
    "\n",
    "isa_study.description = \"... here the text of the description...\""
   ]
  },
  {
   "cell_type": "markdown",
   "metadata": {},
   "source": [
    "Next, we would like to specify the type of study design (and we can set multiple values if necessary). \n",
    "\n",
    "For this, we will build ontology annotations, as we did for the ```StudyFactor`` objects:\n",
    "\n",
    "```python\n",
    "descriptor_1 = OntologyAnnotation(\n",
    "                  term=\"... here the label of the term...\", \n",
    "                  term_source=\"... here the name of the ontology the term comes from...\", \n",
    "                  term_accession=\"... here the URL of the term ...\")\n",
    "```\n",
    "\n",
    "To determine some of the study design descriptors, consider the following questions and use the [EBI Ontology Lookup Service](https://www.ebi.ac.uk/ols/) to find relevant terms:\n",
    "\n",
    "- is the experiment following an 'intervention design' or an 'observation design'?\n",
    "- is the design 'factorial' or a 'randomized block' design?\n",
    "- is the design 'full' or 'fractional'?"
   ]
  },
  {
   "cell_type": "code",
   "execution_count": null,
   "metadata": {
    "collapsed": true
   },
   "outputs": [],
   "source": [
    "### HERE DEFINE YOUR DESCRIPTORS\n",
    "descriptor_1 = OntologyAnnotation(\n",
    "                  term=\"\", \n",
    "                  term_source=\"\", \n",
    "                  term_accession=\"\")"
   ]
  },
  {
   "cell_type": "markdown",
   "metadata": {},
   "source": [
    "After you defined the descriptors, you can append them to isa_study.design_descriptors list as follows:\n",
    "\n",
    "```python\n",
    "isa_study.design_descriptors.append(descriptor_1)\n",
    "```\n"
   ]
  },
  {
   "cell_type": "code",
   "execution_count": null,
   "metadata": {
    "collapsed": true
   },
   "outputs": [],
   "source": [
    "### HERE APPEND ALL THE DESCRIPTORS YOU DEFINED ABOVE\n",
    "isa_study.design_descriptors.append(descriptor_1)"
   ]
  },
  {
   "cell_type": "markdown",
   "metadata": {},
   "source": [
    "## Assay and Data Acquisition Plans:\n",
    "\n",
    "From the experiment narrative, identify the *response variables* (a.k.a.[dependent variables](https://goo.gl/tfGNQe)).  Map those to ISA compatible terms and definitions.\n",
    "\n",
    "The ISA model defines an ```*ISA Assay Type*``` by a pair of descriptors:  a *type of measurement*  and the *type of technology* used to obtain readings from the response variables.\n",
    "\n",
    "A series of configuration files that define the vetted values for Measurement Type and Technology type. We have extracted a few of those in the table below:\n",
    "\n",
    "\n",
    "| Measurement Type | Technology type   |\n",
    "|:-|----------------------:|\n",
    "|   transcription profiling    | DNA microarray     |\n",
    "|   transcription profiling    | nucleotide sequencing     |\n",
    "|   transcription factor binding site identification    | DNA microarray     |\n",
    "|   transcription factor binding site identification    | nucleotide sequencing     |\n",
    "|   metabolite profiling    | mass spectrometry    |\n",
    "|   metabolite profiling    | nmr spectroscopy     |\n",
    "|   targeted gene survey    | nucleotide sequencing     |\n",
    "|   histopathology    | microscopy imaging     |\n",
    "|   phenotyping    | multispectral imaging     |\n",
    "\n"
   ]
  },
  {
   "cell_type": "markdown",
   "metadata": {},
   "source": [
    "Given this set, define the assay types matching the experiment narrative.\n",
    "\n",
    "The way to define an ``` ISA assay type``` using the ISA-API is as follows:\n",
    "\n",
    "``` assay_type_1= AssayType(measurement_type='...here a supported measurement type...', technology_type='...here a supported technology type...') ```\n",
    "\n",
    "Use as many statements as necessary:"
   ]
  },
  {
   "cell_type": "code",
   "execution_count": null,
   "metadata": {
    "collapsed": true
   },
   "outputs": [],
   "source": [
    "### HERE YOUR ANSWER\n",
    "assay_type_1= AssayType(measurement_type='...here a supported measurement type...', \n",
    "                        technology_type='...here a supported technology type...')\n",
    "\n"
   ]
  },
  {
   "cell_type": "markdown",
   "metadata": {},
   "source": [
    "Let's now define a Python ```set``` [(a kind of data structure)](https://realpython.com/python-sets/) for the assay types:"
   ]
  },
  {
   "cell_type": "code",
   "execution_count": null,
   "metadata": {
    "collapsed": true
   },
   "outputs": [],
   "source": [
    "assay_types = set()"
   ]
  },
  {
   "cell_type": "markdown",
   "metadata": {
    "collapsed": true
   },
   "source": [
    "You can add the types you just defined above to the ```set``` as follows:\n",
    "    \n",
    "``` assay_types.add(assay_type_1) ```\n",
    "\n",
    "Add all your assay types to the ```ISA assay_types``` set below, using as many statements as necessary:"
   ]
  },
  {
   "cell_type": "code",
   "execution_count": null,
   "metadata": {
    "collapsed": true
   },
   "outputs": [],
   "source": [
    "### HERE YOUR ANSWER\n",
    "assay_types.add(...)\n"
   ]
  },
  {
   "cell_type": "markdown",
   "metadata": {},
   "source": [
    "Let's now visualise the assay types that you created:"
   ]
  },
  {
   "cell_type": "code",
   "execution_count": null,
   "metadata": {
    "collapsed": true
   },
   "outputs": [],
   "source": [
    "for x in assay_types:\n",
    "        print(x.measurement_type.term,\" using \", x.technology_type.term)\n"
   ]
  },
  {
   "cell_type": "markdown",
   "metadata": {},
   "source": [
    "## Assay Specific Descriptors:\n",
    "\n",
    " - Each data acquisition modality comes with its own set of parameters related to design of experiment, and aiming to account for technical variability. These parameters can be set as to capture the specifics of the underlying experimental workflow, which be can accommodated by the ISA model.\n",
    "\n",
    " - This section of the exercise aims to extract the technical specifics for each of the data acquisition experimental workflows as declared in the experimental narrative and population the relevant objects from the ISA model.\n"
   ]
  },
  {
   "cell_type": "markdown",
   "metadata": {},
   "source": [
    "### Dealing with Next Generation Sequencing (NGS) Data Acquisition Plan"
   ]
  },
  {
   "cell_type": "markdown",
   "metadata": {},
   "source": [
    "Select in the following slider the number of technical replicates in the Next Generation Sequence (NGS) data acquisition plan:"
   ]
  },
  {
   "cell_type": "code",
   "execution_count": null,
   "metadata": {
    "collapsed": true
   },
   "outputs": [],
   "source": [
    "ngs_technical_replicates = IntSlider(value=1, min=1, max=5, step=1, description='Technical repeats:', disabled=False, continuous_update=False, orientation='horizontal', readout=True, readout_format='d')\n",
    "ngs_technical_replicates\n",
    "\n"
   ]
  },
  {
   "cell_type": "markdown",
   "metadata": {},
   "source": [
    "Let's now identify the instrument and include it in a set:"
   ]
  },
  {
   "cell_type": "code",
   "execution_count": null,
   "metadata": {
    "collapsed": true
   },
   "outputs": [],
   "source": [
    "### HERE YOUR ANSWER\n",
    "instrument = '...some instrument...'"
   ]
  },
  {
   "cell_type": "code",
   "execution_count": null,
   "metadata": {
    "collapsed": true
   },
   "outputs": [],
   "source": [
    "sequencing_instruments = set()\n",
    "sequencing_instruments.add(instrument) "
   ]
  },
  {
   "cell_type": "markdown",
   "metadata": {},
   "source": [
    " - How many different libraries were used for NGS data acquisition? What were their types? If you don't know what a sequencing library is, the following [link](https://emea.illumina.com/science/technology/next-generation-sequencing/paired-end-vs-single-read-sequencing.html) will provide background information.\n",
    "\n",
    " - Set the value in the slider below (and you can change the default value so that you don't need to change the slider every time you re-run the cell):"
   ]
  },
  {
   "cell_type": "code",
   "execution_count": null,
   "metadata": {
    "collapsed": true
   },
   "outputs": [],
   "source": [
    "ngs_distinct_libraries = IntSlider(value=1, min=1, max=3, step=1, description='Distinct libraries:', disabled=False, continuous_update=False, orientation='horizontal', readout=True, readout_format='d')\n",
    "ngs_distinct_libraries\n"
   ]
  },
  {
   "cell_type": "markdown",
   "metadata": {},
   "source": [
    "The value you selected was:"
   ]
  },
  {
   "cell_type": "code",
   "execution_count": null,
   "metadata": {
    "collapsed": true
   },
   "outputs": [],
   "source": [
    "ngs_distinct_libraries.value"
   ]
  },
  {
   "cell_type": "markdown",
   "metadata": {},
   "source": [
    "- The NGS parameters that you selected in the previous steps are known as ```'topology modifiers'``` in ISA speak . This name refers to the fact that they affect the shape of the experimental graph being considered, where the graph has material or data entities as nodes and processes as edges.\n",
    "\n",
    "- The following code defines a ```DNASeqAssayTopologyModifiers``` object and adds it to the AssayType object defined earlier on:"
   ]
  },
  {
   "cell_type": "code",
   "execution_count": null,
   "metadata": {
    "collapsed": true,
    "scrolled": true
   },
   "outputs": [],
   "source": [
    "top_mods_seq = DNASeqAssayTopologyModifiers(\n",
    "    technical_replicates=ngs_technical_replicates.value, \n",
    "    instruments=sequencing_instruments,\n",
    "    distinct_libraries=ngs_distinct_libraries.value)\n",
    "\n",
    "assay_type_1.topology_modifiers = top_mods_seq\n",
    "\n",
    "print(assay_type_1.topology_modifiers)"
   ]
  },
  {
   "cell_type": "markdown",
   "metadata": {},
   "source": [
    "Now that we have all the information about the NGS assay type, we can add it to the plan:"
   ]
  },
  {
   "cell_type": "code",
   "execution_count": null,
   "metadata": {
    "collapsed": true
   },
   "outputs": [],
   "source": [
    "plan.add_assay_type(assay_type_1)"
   ]
  },
  {
   "cell_type": "markdown",
   "metadata": {},
   "source": [
    "Finally, for the NGS, we need to identify to what sample type it is applied. Fill in the NGS sample type in the following variable:"
   ]
  },
  {
   "cell_type": "code",
   "execution_count": null,
   "metadata": {
    "collapsed": true
   },
   "outputs": [],
   "source": [
    "### HERE YOUR ANSWER\n",
    "\n",
    "ngs_sample_type = '...some specimen name matching the declaration...'"
   ]
  },
  {
   "cell_type": "markdown",
   "metadata": {},
   "source": [
    "The following code will associate the NGS assay type to the relevant sample type (as per your definition above):"
   ]
  },
  {
   "cell_type": "code",
   "execution_count": null,
   "metadata": {
    "collapsed": true
   },
   "outputs": [],
   "source": [
    "for sample_type in plan.sample_types:\n",
    "    if sample_type.value.term == ngs_sample_type:\n",
    "        print('adding assay for sample_type '+sample_type.value.term)\n",
    "        plan.add_assay_plan_record(sample_type.value.term, assay_type_1)\n",
    "        assay_plan = next(iter(plan.assay_plan))\n",
    "    elif sample_type.value.term != ngs_sample_type:\n",
    "        print('doing nothing for '+ sample_type.value.term)\n",
    "        "
   ]
  },
  {
   "cell_type": "markdown",
   "metadata": {},
   "source": [
    "Let's now check the assay plan to see if it matches the experiment narrative:"
   ]
  },
  {
   "cell_type": "code",
   "execution_count": null,
   "metadata": {
    "collapsed": true
   },
   "outputs": [],
   "source": [
    "try:\n",
    "    print('Added assay plan: {0} -> {1}/{2}'.format(assay_plan[0].value.term, assay_plan[1].measurement_type.term, assay_plan[1].technology_type.term))\n",
    "    if len(top_mods_seq.instruments) > 0:\n",
    "        print('Instruments: {}'.format(list(top_mods_seq.instruments)))\n",
    "except NameError:\n",
    "    print(\"Need more details to print assay plan\")"
   ]
  },
  {
   "cell_type": "code",
   "execution_count": null,
   "metadata": {
    "collapsed": true
   },
   "outputs": [],
   "source": [
    "print(json.dumps(plan, cls=SampleAssayPlanEncoder, sort_keys=True, indent=4, separators=(',', ': ')))"
   ]
  },
  {
   "cell_type": "markdown",
   "metadata": {},
   "source": [
    "### Dealing with Mass Spectrometry Data Acquisition Plan"
   ]
  },
  {
   "cell_type": "markdown",
   "metadata": {},
   "source": [
    "Which sample types have been earmarked for being assayed using mass spectrometry ? Let's set the value accordingly"
   ]
  },
  {
   "cell_type": "code",
   "execution_count": null,
   "metadata": {
    "collapsed": true
   },
   "outputs": [],
   "source": [
    "### HERE YOUR ANSWER (is it 'blood','liver', 'kidney' ?)\n",
    "\n",
    "ms_sample_type = '...'"
   ]
  },
  {
   "cell_type": "markdown",
   "metadata": {},
   "source": [
    "Moving on, we'll now capture the information about second assay type, related to mass spectrometry.\n",
    "We want to identify, when relevant:\n",
    "- the chromatography instruments\n",
    "- the mass spectrometry instrument\n",
    "- the injection mode\n",
    "- the acquisition modes\n",
    "\n",
    "Given the definition of the following sets, add where applicable and suited the relevant elements as described in the experiment narrative. Are all sets needed?"
   ]
  },
  {
   "cell_type": "code",
   "execution_count": null,
   "metadata": {
    "collapsed": true
   },
   "outputs": [],
   "source": [
    "### use where relevant (delete or comment out if needed)\n",
    "chromatography_instruments = set()\n",
    "ms_instruments = set()\n",
    "injection_modes = set()\n",
    "acquisition_modes = set()\n"
   ]
  },
  {
   "cell_type": "code",
   "execution_count": null,
   "metadata": {
    "collapsed": true
   },
   "outputs": [],
   "source": [
    "### HERE YOUR ANSWER\n",
    "ms_instrument = \"...<some value>...\"\n",
    "ms_instruments.add(ms_instrument)\n",
    "\n",
    "inj_mod = \"...<some value>...\"\n",
    "injection_modes.add(inj_mod)\n",
    "\n",
    "acquisition_modes.add('...<some value>...')"
   ]
  },
  {
   "cell_type": "markdown",
   "metadata": {},
   "source": [
    "How many technical replicates are used for the mass spectrometry assay? Set the appropriate value below:\n"
   ]
  },
  {
   "cell_type": "code",
   "execution_count": null,
   "metadata": {
    "collapsed": true
   },
   "outputs": [],
   "source": [
    "### HERE YOUR ANSWER \n",
    "ms_tech_rep = 1"
   ]
  },
  {
   "cell_type": "markdown",
   "metadata": {},
   "source": [
    "Given all this information, we are in a position to define an object of the class ```MSAssayTopologyModifiers``` and assign it to the corresponding assay type:"
   ]
  },
  {
   "cell_type": "code",
   "execution_count": null,
   "metadata": {
    "collapsed": true
   },
   "outputs": [],
   "source": [
    "try:\n",
    "    top_mods_ms = MSAssayTopologyModifiers(\n",
    "          technical_replicates=ms_tech_rep, \n",
    "          injection_modes=injection_modes, \n",
    "          acquisition_modes=acquisition_modes, \n",
    "          instruments=ms_instruments, \n",
    "          chromatography_instruments=chromatography_instruments)\n",
    "\n",
    "    assay_type_2.topology_modifiers = top_mods_ms\n",
    "except NameError:\n",
    "    print(\"There was an assay type left undefined\")"
   ]
  },
  {
   "cell_type": "markdown",
   "metadata": {},
   "source": [
    "Let's see all the settings to check they are as expected:"
   ]
  },
  {
   "cell_type": "code",
   "execution_count": null,
   "metadata": {
    "collapsed": true
   },
   "outputs": [],
   "source": [
    "if len(top_mods_ms.chromatography_instruments) > 0:\n",
    "    print('Chromatography instruments: {}'.format(list(top_mods_ms.chromatography_instruments)))\n",
    "else:\n",
    "    print('no chromatography used or no information supplied')\n",
    "\n",
    "if len(top_mods_ms.instruments) > 0:\n",
    "    print('Data acquisition instruments: {}'.format(list(top_mods_ms.instruments)))    \n",
    "if len(top_mods_ms.injection_modes) > 0:\n",
    "    print('Injection modes: {}'.format(list(top_mods_ms.injection_modes)))\n",
    "if len(top_mods_ms.acquisition_modes) > 0:\n",
    "    print('Acquisition modes: {}'.format(list(top_mods_ms.acquisition_modes)))\n"
   ]
  },
  {
   "cell_type": "markdown",
   "metadata": {},
   "source": [
    "Then, we add the mass spectrometry assay to the plan:"
   ]
  },
  {
   "cell_type": "code",
   "execution_count": null,
   "metadata": {
    "collapsed": true
   },
   "outputs": [],
   "source": [
    "try:\n",
    "    plan.add_assay_type(assay_type_2)\n",
    "    plan.add_assay_plan_record(\"...<a relevant specimen name>...\", assay_type_2)\n",
    "\n",
    "    assay_plan = next(iter(plan.assay_plan))\n",
    "except NameError:\n",
    "    print(\"There was an assay type left undefined\")"
   ]
  },
  {
   "cell_type": "markdown",
   "metadata": {},
   "source": [
    "And let's see the json representation of the SampleAssayPlan:"
   ]
  },
  {
   "cell_type": "code",
   "execution_count": null,
   "metadata": {
    "collapsed": true
   },
   "outputs": [],
   "source": [
    "print(json.dumps(plan, \n",
    "                 cls=SampleAssayPlanEncoder, \n",
    "                 sort_keys=True, \n",
    "                 indent=4, \n",
    "                 separators=(',', ': ')))"
   ]
  },
  {
   "cell_type": "markdown",
   "metadata": {},
   "source": [
    "As the last step, we generate assay tables from the information on the Assay Plans and visualise the output files."
   ]
  },
  {
   "cell_type": "code",
   "execution_count": null,
   "metadata": {
    "collapsed": true
   },
   "outputs": [],
   "source": [
    "isa_investigation.studies = [isa_object_factory.create_assays_from_plan()]\n",
    "\n",
    "for assay in isa_investigation.studies[-1].assays:\n",
    "    print('Assay generated: {0}, {1} samples, {2} processes, {3} data files'\n",
    "          .format(assay.filename, \n",
    "                  len(assay.samples), \n",
    "                  len(assay.process_sequence), \n",
    "                  len(assay.data_files)))\n",
    "dataframes = dumpdf(isa_investigation)"
   ]
  },
  {
   "cell_type": "code",
   "execution_count": null,
   "metadata": {
    "collapsed": true
   },
   "outputs": [],
   "source": [
    "table = pd.DataFrame()\n",
    "try:\n",
    "    table = dataframes[next(iter(dataframes.keys()))]\n",
    "\n",
    "except StopIteration:\n",
    "    print(\"Need more information to print the table\")\n",
    "    \n",
    "display(table)"
   ]
  },
  {
   "cell_type": "code",
   "execution_count": null,
   "metadata": {
    "collapsed": true
   },
   "outputs": [],
   "source": [
    "table = pd.DataFrame()\n",
    "try:\n",
    "    table = dataframes['a_blood_ms_FIA_positive_assay.txt']\n",
    "    display(table)   \n",
    "except KeyError:\n",
    "    print(\"Need more details to print the assay table\")\n"
   ]
  },
  {
   "cell_type": "code",
   "execution_count": null,
   "metadata": {
    "collapsed": true
   },
   "outputs": [],
   "source": [
    "table = pd.DataFrame()\n",
    "try:\n",
    "    table = dataframes['a_blood_ms_FIA_negative_assay.txt']\n",
    "    display(table)\n",
    "except KeyError:\n",
    "    print(\"Need more details to print the assay table\")\n",
    "   "
   ]
  },
  {
   "cell_type": "code",
   "execution_count": null,
   "metadata": {
    "collapsed": true
   },
   "outputs": [],
   "source": [
    "table = pd.DataFrame()\n",
    "try:\n",
    "    table = dataframes['a_liver_dnaseq_Illumina HiSeq 2000_assay.txt']\n",
    "    display(table)\n",
    "except KeyError:\n",
    "    print(\"Need more details to print the assay table\")\n",
    "    "
   ]
  }
 ],
 "metadata": {
  "kernelspec": {
   "display_name": "Python 3",
   "language": "python",
   "name": "python3"
  },
  "language_info": {
   "codemirror_mode": {
    "name": "ipython",
    "version": 3
   },
   "file_extension": ".py",
   "mimetype": "text/x-python",
   "name": "python",
   "nbconvert_exporter": "python",
   "pygments_lexer": "ipython3",
   "version": "3.6.0"
  }
 },
 "nbformat": 4,
 "nbformat_minor": 1
}
